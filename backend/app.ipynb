{
 "cells": [
  {
   "cell_type": "code",
   "execution_count": 26,
   "id": "f9c5846f-bb97-4d9e-93a6-1aafe038a228",
   "metadata": {},
   "outputs": [],
   "source": [
    "import requests\n",
    "filler_words = [\"um\", \"uh\", \"hmm\", \"mhm\", \"uh huh\", \"ahh\", \"like\", \"you know\"]\n",
    "\n",
    "from flask import Flask\n",
    "import datetime\n",
    "\n",
    "app = Flask(__name__)\n",
    "\n",
    "def read_file(filename, chunk_size=5242880):\n",
    "    with open(filename, 'rb') as _file:\n",
    "        while True:\n",
    "            data = _file.read(chunk_size)\n",
    "            if not data:\n",
    "                break\n",
    "            yield data\n",
    "            \n",
    "def get_url(filename): \n",
    "    headers = {'authorization': \"8723d8b0c8104a8fa0f6c8487d79b26c\"}\n",
    "    response = requests.post('https://api.assemblyai.com/v2/upload',\n",
    "                        headers=headers,\n",
    "                        data=read_file(filename))\n",
    "    return response.json()['upload_url']\n",
    "\n",
    "@app.route('/time')\n",
    "def get_current_time():\n",
    "    return {'time': datetime.datetime.now()}\n",
    "\n",
    "@app.route('/analyze')\n",
    "def assembly_analysis(url):\n",
    "    req_endpoint = \"https://api.assemblyai.com/v2/transcript\"\n",
    "    \n",
    "    req_json = {\n",
    "        \"audio_url\": url,\n",
    "        \"sentiment_analysis\": True,\n",
    "        \"disfluencies\": True\n",
    "    }\n",
    "    req_headers = {\n",
    "        \"authorization\": \"8723d8b0c8104a8fa0f6c8487d79b26c\",\n",
    "        \"content-type\": \"application/json\"\n",
    "    }\n",
    "    req_response = requests.post(req_endpoint, json=req_json, headers=req_headers)\n",
    "    # print(req_response.json())\n",
    "    \n",
    "    curr_id = req_response.json()['id']\n",
    "    status = ''\n",
    "\n",
    "    while status != 'completed': \n",
    "        check_endpoint = f'https://api.assemblyai.com/v2/transcript/{curr_id}'\n",
    "        check_headers = {\n",
    "            # \"authorization\": \"YOUR-API-TOKEN\",\n",
    "            \"authorization\": \"8723d8b0c8104a8fa0f6c8487d79b26c\",\n",
    "        }\n",
    "        check_response = requests.get(check_endpoint, headers=check_headers)\n",
    "        status = check_response.json()['status']\n",
    "\n",
    "    text = check_response.json()['text']\n",
    "    sentiment = check_response.json()['sentiment_analysis_results']\n",
    "    #print(check_response.json())\n",
    "    return [text, sentiment]"
   ]
  },
  {
   "cell_type": "code",
   "execution_count": 29,
   "id": "f21be841-386c-4a2c-86ba-50d1bb5fd393",
   "metadata": {},
   "outputs": [],
   "source": [
    "result = assembly_analysis(get_url('7510.wav'))"
   ]
  },
  {
   "cell_type": "code",
   "execution_count": 10,
   "id": "f92f765f-b9f5-4d81-989b-4d7d65311429",
   "metadata": {},
   "outputs": [],
   "source": [
    "from scipy.io.wavfile import read #import the required function from the module\n",
    "import matplotlib.pyplot as plt\n",
    "import numpy as np\n",
    "\n",
    "def graph_amplitude(file_path): \n",
    "    samplerate, data = read(file_path)\n",
    "    # samplerate #echo samplerate\n",
    "    # data #echo data -> note that the data is a single dimensional array\n",
    "    duration = len(data)/samplerate\n",
    "    time = np.arange(0,duration,1/samplerate) #time vector\n",
    "    \n",
    "    plt.plot(time,data)\n",
    "    plt.xlabel('Time [s]')\n",
    "    plt.ylabel('Amplitude')\n",
    "    plt.title('7510.wav')\n",
    "    plt.show()"
   ]
  },
  {
   "cell_type": "code",
   "execution_count": 11,
   "id": "88467ee5-003e-455e-a15e-0d34a2d541be",
   "metadata": {},
   "outputs": [],
   "source": [
    "import soundfile as sf\n",
    "import pyloudnorm as pyln\n",
    "\n",
    "def loudness_unit(file_path): \n",
    "    data, rate = sf.read(file_path)\n",
    "    meter = pyln.Meter(rate) \n",
    "    # Loudness Unit Full Scale \n",
    "    # The less negative the value, the higher the average level.\n",
    "    # -9 to -13 is the ideal range\n",
    "    loudness = meter.integrated_loudness(data)\n",
    "    return loudness"
   ]
  },
  {
   "cell_type": "code",
   "execution_count": 12,
   "id": "c79d7595-d82e-499d-860d-cf6a282aff61",
   "metadata": {},
   "outputs": [
    {
     "data": {
      "image/png": "[encoded data removed]",
      "text/plain": [
       "<Figure size 432x288 with 1 Axes>"
      ]
     },
     "metadata": {
      "needs_background": "light"
     },
     "output_type": "display_data"
    }
   ],
   "source": [
    "graph_amplitude('7510.wav')"
   ]
  },
  {
   "cell_type": "code",
   "execution_count": 13,
   "id": "cff92f2d-f361-4937-902f-e689736c0f23",
   "metadata": {},
   "outputs": [
    {
     "data": {
      "text/plain": [
       "-39.41070989102504"
      ]
     },
     "execution_count": 13,
     "metadata": {},
     "output_type": "execute_result"
    }
   ],
   "source": [
    "loudness_unit('7510.wav')"
   ]
  },
  {
   "cell_type": "code",
   "execution_count": 14,
   "id": "46255fb7-f2b9-48de-9999-f72b9606c49f",
   "metadata": {},
   "outputs": [],
   "source": [
    "def count_filler(result):\n",
    "    filler_count = 0\n",
    "    for word in filler_words:\n",
    "        if word in result:\n",
    "            filler_count += 1\n",
    "    return filler_count"
   ]
  },
  {
   "cell_type": "code",
   "execution_count": 30,
   "id": "f1e40319-e2e2-4803-832e-3d30f6e7ce18",
   "metadata": {},
   "outputs": [
    {
     "data": {
      "text/plain": [
       "3"
      ]
     },
     "execution_count": 30,
     "metadata": {},
     "output_type": "execute_result"
    }
   ],
   "source": [
    "count_filler(result[0])"
   ]
  },
  {
   "cell_type": "code",
   "execution_count": 31,
   "id": "d4c1bcbe-f959-416d-a6df-b5f3dfe8f613",
   "metadata": {},
   "outputs": [
    {
     "data": {
      "text/plain": [
       "[{'text': 'You know, demons on TV like that and and for people to expose themselves to being rejected on TV or, you know, humil humiliated by Fear Factor or, um, you know,',\n",
       "  'start': 550,\n",
       "  'end': 11760,\n",
       "  'sentiment': 'NEGATIVE',\n",
       "  'confidence': 0.7364895343780518,\n",
       "  'speaker': None}]"
      ]
     },
     "execution_count": 31,
     "metadata": {},
     "output_type": "execute_result"
    }
   ],
   "source": [
    "sentiment = result[1]\n",
    "sentiment"
   ]
  },
  {
   "cell_type": "code",
   "execution_count": 32,
   "id": "ad6ce37a-3bbe-4ab3-8898-475ea2dd19a0",
   "metadata": {},
   "outputs": [
    {
     "data": {
      "text/plain": [
       "['You know, demons on TV like that and and for people to expose themselves to being rejected on TV or, you know, humil humiliated by Fear Factor or, um, you know,',\n",
       " [{'text': 'You know, demons on TV like that and and for people to expose themselves to being rejected on TV or, you know, humil humiliated by Fear Factor or, um, you know,',\n",
       "   'start': 550,\n",
       "   'end': 11760,\n",
       "   'sentiment': 'NEGATIVE',\n",
       "   'confidence': 0.7364895343780518,\n",
       "   'speaker': None}]]"
      ]
     },
     "execution_count": 32,
     "metadata": {},
     "output_type": "execute_result"
    }
   ],
   "source": [
    "result"
   ]
  },
  {
   "cell_type": "code",
   "execution_count": null,
   "id": "84814a45-54ac-4cf2-907f-48e967545c53",
   "metadata": {},
   "outputs": [],
   "source": []
  }
 ],
 "metadata": {
  "kernelspec": {
   "display_name": "Python 3 (ipykernel)",
   "language": "python",
   "name": "python3"
  },
  "language_info": {
   "codemirror_mode": {
    "name": "ipython",
    "version": 3
   },
   "file_extension": ".py",
   "mimetype": "text/x-python",
   "name": "python",
   "nbconvert_exporter": "python",
   "pygments_lexer": "ipython3",
   "version": "3.10.1"
  }
 },
 "nbformat": 4,
 "nbformat_minor": 5
}
